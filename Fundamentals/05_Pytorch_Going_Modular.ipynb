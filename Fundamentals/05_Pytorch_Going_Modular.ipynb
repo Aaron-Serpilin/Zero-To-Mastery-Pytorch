{
 "cells": [
  {
   "cell_type": "markdown",
   "metadata": {},
   "source": [
    "# 05. PyTorch Going Modular\n",
    "\n",
    "Notebook Reference: https://www.learnpytorch.io/05_pytorch_going_modular/"
   ]
  },
  {
   "cell_type": "markdown",
   "metadata": {},
   "source": [
    "Within ML, modularity involves turning notebook code made up of a series of cells into Python files. \n",
    "For example, for `04_PyTorch_Custom_Datasets.ipynb` we can transform the cells into the following files:\n",
    "\n",
    "* `data_setup.py` - a file to prepare and download data if needed\n",
    "* `engine.py` - a file containing various training functions\n",
    "* `model_builder.py` or `model.py` - a file to create a PyTorch model\n",
    "* `train.py` - a file to leverage all other files and train a target PyTorch model\n",
    "* `utils.py` - a file dedicated to helpful utility functions\n",
    "\n"
   ]
  },
  {
   "cell_type": "markdown",
   "metadata": {},
   "source": [
    "Modularity is valuable since it makes these scripts more reproducible and easier to run. However, companies such as Netflix do defend the notion of using notebooks as their production code. \n",
    "\n",
    "Below are some pros and cons of both Notebooks and Python scripts.\n",
    "\n",
    "Notebooks:\n",
    "* Easier to experiment and get started; easier to share through a Google Collab notebook; very visual\n",
    "* Versioning can be hard; it is hard to use only specific parts; text and graphics can get in the way\n",
    "\n",
    "Python scripts:\n",
    "* Can package together, avoiding constantly rewriting code; can use git for versioning; used by many open source projects; larger projects can be run on cloud vendors\n",
    "* Experimenting is not as visual as notebooks since you have to run the entire script rather than one cell"
   ]
  },
  {
   "cell_type": "markdown",
   "metadata": {},
   "source": [
    "A common structure for running PyTorch models written in Python scripts is the following:\n",
    "\n",
    "`python train.py --model MODEL_NAME --batch_size BATCH_SIZE --lr LEARNING_RATE --num_epochs NUM_EPOCHS`\n",
    "\n",
    "Within this command, the double-dash values are known as argument flags, and the capitalized argument following them are the various hyper parameters we can set. "
   ]
  },
  {
   "cell_type": "markdown",
   "metadata": {},
   "source": [
    "## 0. Cell mode vs Script mode\n",
    "\n",
    "A cell mode notebook is a notebook run normally, where each cell in the notebook is either code or markdown.\n",
    "\n",
    "A script mode notebook is very similar to a cell mode notebook, however, many of the code cells may be turned into Python scripts. "
   ]
  },
  {
   "cell_type": "markdown",
   "metadata": {},
   "source": [
    "## 1. Get data"
   ]
  },
  {
   "cell_type": "code",
   "execution_count": 1,
   "metadata": {},
   "outputs": [],
   "source": [
    "import os\n",
    "import requests\n",
    "import zipfile\n",
    "from pathlib import Path\n",
    "\n",
    "# Path to data folder\n",
    "data_path = Path(\"data\")\n",
    "image_path = data_path / \"pizza_steak_sushi\""
   ]
  }
 ],
 "metadata": {
  "kernelspec": {
   "display_name": "base",
   "language": "python",
   "name": "python3"
  },
  "language_info": {
   "codemirror_mode": {
    "name": "ipython",
    "version": 3
   },
   "file_extension": ".py",
   "mimetype": "text/x-python",
   "name": "python",
   "nbconvert_exporter": "python",
   "pygments_lexer": "ipython3",
   "version": "3.11.4"
  }
 },
 "nbformat": 4,
 "nbformat_minor": 2
}
