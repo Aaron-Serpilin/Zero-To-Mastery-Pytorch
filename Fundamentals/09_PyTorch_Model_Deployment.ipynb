{
  "cells": [
    {
      "cell_type": "markdown",
      "metadata": {
        "id": "hK6aXKqLpRQl"
      },
      "source": [
        "# PyTorch Model Deployment\n"
      ]
    },
    {
      "cell_type": "markdown",
      "metadata": {
        "id": "97VnO1qIpRQm"
      },
      "source": [
        "So far, the FoodVision Mini Project has only been accessible to us. Hence, the goal of this chapter is to deploy our FoodVision Mini model to the internet as a usable app"
      ]
    },
    {
      "cell_type": "markdown",
      "metadata": {
        "id": "Vp1y244DpRQm"
      },
      "source": [
        "### What is Machine Learning model deployment?\n",
        "\n",
        "Machine learning model deployment is the process of making your machine learning model accessible to someone or something else, allowing said user to interact with the model in some way.\n",
        "\n",
        "This can come in the form of a person, or a program, app, or model that interacts with our model. Machine learning model deployment involves making your model available to someone or something else."
      ]
    },
    {
      "cell_type": "markdown",
      "metadata": {
        "id": "vUFlJC9jpRQm"
      },
      "source": [
        "### Why deploy a Machine Learning model?\n",
        "\n",
        "While evaluating a model on a well crafted test set, or visualizing its results can give a good indicator as to a model's performance, one can never truly know the model's performance unless it is released in the wild.\n",
        "\n",
        "Having people who have never used your model interact with it often reveals edge cases never thought of during training. Model deployment helps figure out errors in models that are not obvious during training/testing."
      ]
    },
    {
      "cell_type": "markdown",
      "metadata": {
        "id": "wSlBi_sIpRQm"
      },
      "source": [
        "### Different types of Machine Learning model deployment\n",
        "\n",
        "There are many types of model deployment, but when deciding the optimal type, one has to start with the question:\n",
        "\n",
        "> What is the most ideal scenario for my machine learning model to be used?\n",
        "\n",
        "And then work backwards from there. In the case of FoodVision Mini, the ideal scenario would entail:\n",
        "\n",
        "* Someone takes a photo on a mobile device\n",
        "* The prediction comes back fast\n",
        "\n",
        "Therefore, this yields two important criteria:\n",
        "1. The model should work on a mobile device (leading to compute constraints)\n",
        "2. The model should make predictions fast (because a slow app is not very useful)\n",
        "\n",
        "When dealing with this criteria, we have to also account for where is the data going to be stored, and if the predictions can be returned immediately or later.\n",
        "\n",
        "Because of all these criteria to tackle, it is often better to start with the most ideal use case, and work backwards from there."
      ]
    },
    {
      "cell_type": "markdown",
      "metadata": {
        "id": "NjnJSgBzpRQm"
      },
      "source": [
        "### Where is it going to go?\n",
        "\n",
        "Where does the model live when it is deployed?\n",
        "\n",
        "The main debate here is whether is lives on-device (also called edge/in the browser) or on the cloud (a computer/sever that isn't the actual device someone/something calls the model from).\n",
        "\n",
        "Both scenarios have their pros and cons.\n",
        "\n",
        "| Deployment Location | Pros                                                       | Cons                                                                                                               |\n",
        "|---------------------|------------------------------------------------------------|--------------------------------------------------------------------------------------------------------------------|\n",
        "| On-device           | Can be very fast (since no data leaves the device)         | Limited compute power (larger models take longer to run)                                                           |\n",
        "|                     | Privacy preserving (again no data has to leave the device) | Limited storage space (smaller model size required)                                                                |\n",
        "|                     | No internet connection required (sometimes)                | Device-specific skills often required                                                                              |\n",
        "| On cloud            | Near unlimited compute power (can scale up when needed)    | Costs can get out of hand (if proper scaling limits aren't enforced)                                               |\n",
        "|                     | Can deploy one model and use everywhere (via API)          | Predictions can be slower due to data having to leave device and predictions having to come back (network latency) |\n",
        "|                     | Links into existing cloud ecosystem                        | Data has to leave device (this may cause privacy concerns)                                                         |"
      ]
    },
    {
      "cell_type": "markdown",
      "metadata": {
        "id": "hTmMgjnNpRQn"
      },
      "source": [
        "Given these considerations, there is an evident trade-off between performance and prediction time with on-device being less performant but faster while on cloud offers a more performant model that requires more computation and storage, leading to longer prediction times."
      ]
    },
    {
      "cell_type": "markdown",
      "metadata": {
        "id": "4_MCFxtKpRQn"
      },
      "source": [
        "### How is it going to function?\n",
        "\n",
        "When deploying the machine learning model, one has to decide whether immediate predictions, or slightly delayed predictions are desirable. These scenarios are generally referred to as:\n",
        "\n",
        "* Online (real-time): Predictions/inference happen immediately.\n",
        "* Offline (batch): Predictions/inference happen periodically.\n",
        "\n",
        "The periodic predictions can have a varying timescale too, from seconds to hours or days.\n",
        "\n",
        "These approaches can be mixed too, where our inference pipeline can happen online while the training pipeline happens in an offline fashion, which is what has been done throughout the course."
      ]
    },
    {
      "cell_type": "markdown",
      "metadata": {
        "id": "r0I9mlGQpRQn"
      },
      "source": [
        "### Ways to deploy a machine learning model\n",
        "\n",
        "Here are a couple of options:\n",
        "\n",
        "| Tool/Resource                                  | Deployment Type               |\n",
        "|------------------------------------------------|-------------------------------|\n",
        "| Google's ML Kit                                | On-device (Android and iOS)   |\n",
        "| Apple's Core ML and coremltools Python package | On-device (all Apple devices) |\n",
        "| Amazon Web Service's (AWS) Sagemaker           | Cloud                         |\n",
        "| Google Cloud's Vertex AI                       | Cloud                         |\n",
        "| Microsoft's Azure Machine Learning             | Cloud                         |\n",
        "| Hugging Face Spaces                            | Cloud                         |\n",
        "| API with FastAPI                               | Cloud/self-hosted server      |\n",
        "| API with TorchServe                            | Cloud/self-hosted server      |\n",
        "| ONNX (Open Neural Network Exchange)            | Many/general                  |\n",
        "\n",
        "The chosen option is highly dependent on what is being built/who are you working with.\n",
        "\n",
        "One of the best small and simple ways is to turn your machine learning model into a demo app with Gradio and then deploy it on Hugging Face Spaces.\n"
      ]
    },
    {
      "cell_type": "markdown",
      "metadata": {
        "id": "nKAvRh8_pRQn"
      },
      "source": [
        "### What will be covered\n",
        "\n",
        "The goal is to deploy the FoodVision Model via a demo Gradio app with the following metrics:\n",
        "1. Performance: 95% accuracy\n",
        "2. Speed: real-time inference of 30FPS+ (each prediction has a latency of lower than ~0.03s)"
      ]
    },
    {
      "cell_type": "markdown",
      "metadata": {
        "id": "O6lYFDbQpRQn"
      },
      "source": [
        "## 0. Setup"
      ]
    },
    {
      "cell_type": "code",
      "execution_count": 1,
      "metadata": {
        "id": "C9Mx55pLpRQn",
        "outputId": "e8e6a8aa-e255-4de6-8f7e-a0c0dd04f67f",
        "colab": {
          "base_uri": "https://localhost:8080/"
        }
      },
      "outputs": [
        {
          "output_type": "stream",
          "name": "stdout",
          "text": [
            "torch version: 2.6.0+cu124\n",
            "torchvision version: 0.21.0+cu124\n"
          ]
        }
      ],
      "source": [
        "try:\n",
        "    import torch\n",
        "    import torchvision\n",
        "    assert int(torch.__version__.split(\".\")[0]) >= 2, \"torch version should be 2.+\"\n",
        "    assert int(torchvision.__version__.split(\".\")[1]) >= 15, \"torchvision version should be 0.15+\"\n",
        "    print(f\"torch version: {torch.__version__}\")\n",
        "    print(f\"torchvision version: {torchvision.__version__}\")\n",
        "except:\n",
        "    print(f\"[INFO] torch/torchvision versions not correct. Installing correct versions.\")\n",
        "    !pip3 install -U torch torchvision torchaudio --extra-index-url https://download.pytorch.org/whl/cu113\n",
        "    import torch\n",
        "    import torchvision\n",
        "    print(f\"torch version: {torch.__version__}\")\n",
        "    print(f\"torchvision version: {torchvision.__version__}\")"
      ]
    },
    {
      "cell_type": "code",
      "execution_count": 2,
      "metadata": {
        "id": "OLzvoZKLpRQn",
        "outputId": "507a24be-fb26-450b-8ae1-1b36c9983e7c",
        "colab": {
          "base_uri": "https://localhost:8080/"
        }
      },
      "outputs": [
        {
          "output_type": "stream",
          "name": "stdout",
          "text": [
            "[INFO] Couldn't find torchinfo... installing it\n",
            "[INFO] Could not find going_modular scripts. Downloading them from GitHub.\n",
            "Cloning into 'Zero-To-Mastery-Pytorch'...\n",
            "remote: Enumerating objects: 699, done.\u001b[K\n",
            "remote: Counting objects: 100% (82/82), done.\u001b[K\n",
            "remote: Compressing objects: 100% (80/80), done.\u001b[K\n",
            "remote: Total 699 (delta 37), reused 7 (delta 2), pack-reused 617 (from 1)\u001b[K\n",
            "Receiving objects: 100% (699/699), 133.90 MiB | 14.51 MiB/s, done.\n",
            "Resolving deltas: 100% (151/151), done.\n",
            "Updating files: 100% (353/353), done.\n"
          ]
        }
      ],
      "source": [
        "import matplotlib\n",
        "import matplotlib.pyplot as plt\n",
        "import torch\n",
        "import torchvision\n",
        "\n",
        "from torch import nn\n",
        "from torchvision import transforms\n",
        "\n",
        "try:\n",
        "    from torchinfo import summary\n",
        "except:\n",
        "    print(\"[INFO] Couldn't find torchinfo... installing it\")\n",
        "    !pip install -q torchinfo\n",
        "    from torchinfo import summary\n",
        "\n",
        "try:\n",
        "    from going_modular import data_setup, engine\n",
        "    from helper_functions import download_data, set_seeds, plot_loss_curves\n",
        "except:\n",
        "    print(\"[INFO] Could not find going_modular scripts. Downloading them from GitHub.\")\n",
        "    !git clone https://github.com/Aaron-Serpilin/Zero-To-Mastery-Pytorch\n",
        "    !mv Zero-To-Mastery-Pytorch/Fundamentals/going_modular .\n",
        "    !mv Zero-To-Mastery-Pytorch/Fundamentals/helper_functions.py .\n",
        "    !rm -rf Zero-To-Mastery-Pytorch\n",
        "    from going_modular import data_setup, engine\n",
        "    from helper_functions import download_data, set_seeds, plot_loss_curves"
      ]
    },
    {
      "cell_type": "code",
      "execution_count": 3,
      "metadata": {
        "id": "qJonfPqDpRQn",
        "outputId": "41fccfa4-e24d-4a31-b56d-60983be13c6b",
        "colab": {
          "base_uri": "https://localhost:8080/",
          "height": 35
        }
      },
      "outputs": [
        {
          "output_type": "execute_result",
          "data": {
            "text/plain": [
              "'cuda'"
            ],
            "application/vnd.google.colaboratory.intrinsic+json": {
              "type": "string"
            }
          },
          "metadata": {},
          "execution_count": 3
        }
      ],
      "source": [
        "device = \"cuda\" if torch.cuda.is_available() else \"cpu\"\n",
        "device"
      ]
    },
    {
      "cell_type": "markdown",
      "metadata": {
        "id": "e177WHTgpRQn"
      },
      "source": [
        "## 1. Getting data"
      ]
    },
    {
      "cell_type": "code",
      "source": [
        "data_20_percent_path = download_data(source=\"https://github.com/mrdbourke/pytorch-deep-learning/raw/main/data/pizza_steak_sushi_20_percent.zip\",\n",
        "                                     destination=\"pizza_steak_sushi_20_percent\")\n",
        "\n",
        "data_20_percent_path"
      ],
      "metadata": {
        "id": "pFdkpsAfsIGQ",
        "outputId": "6c5864d3-fab0-447f-9705-43c256814e35",
        "colab": {
          "base_uri": "https://localhost:8080/"
        }
      },
      "execution_count": 4,
      "outputs": [
        {
          "output_type": "stream",
          "name": "stdout",
          "text": [
            "[INFO] Did not find data/pizza_steak_sushi_20_percent directory, creating one...\n",
            "[INFO] Downloading pizza_steak_sushi_20_percent.zip from https://github.com/mrdbourke/pytorch-deep-learning/raw/main/data/pizza_steak_sushi_20_percent.zip...\n",
            "[INFO] Unzipping pizza_steak_sushi_20_percent.zip data...\n"
          ]
        },
        {
          "output_type": "execute_result",
          "data": {
            "text/plain": [
              "PosixPath('data/pizza_steak_sushi_20_percent')"
            ]
          },
          "metadata": {},
          "execution_count": 4
        }
      ]
    },
    {
      "cell_type": "code",
      "source": [
        "train_dir = data_20_percent_path / \"train\"\n",
        "test_dir = data_20_percent_path / \"test\""
      ],
      "metadata": {
        "id": "sgC_RCbcsSI2"
      },
      "execution_count": 5,
      "outputs": []
    },
    {
      "cell_type": "markdown",
      "source": [
        "## 2. FoodVision Mini Model deployment experiment outline\n",
        "\n",
        "The ideal model performance would be for it to perform as close to real-time as possible.\n",
        "\n",
        "For our use, real-time would be approximately ~30FPS (frames per second) because that is approximately how fast the human eye can see.\n",
        "\n",
        "Regarding metrics, it would be desirable for the model to perform with a 95% accuracy. Higher accuracy would be appreciated, but this might sacrifice speed.\n",
        "\n",
        "Therefore, the goals are:\n",
        "1. **Performance**: 95% accuracy\n",
        "2. **Speed**: A model that can classify an image at ~30FPS\n",
        "\n",
        "The emphasis for the model deploymen is on speed where we would rather slightly sacrifice accuracy to achieve the desired speed rather than the other way around.\n",
        "\n",
        "As benchmarks, we will the the best performing models from previous sections:\n",
        "1. EffNetB2 Feature Extractor\n",
        "2. ViT-B/16 Feature Extractor"
      ],
      "metadata": {
        "id": "P7J0QY0lsXRe"
      }
    },
    {
      "cell_type": "markdown",
      "source": [
        "## 3. Creating an EffNetB2 feature extractor"
      ],
      "metadata": {
        "id": "LT535m5uuC6Z"
      }
    },
    {
      "cell_type": "code",
      "source": [
        "effnetb2_weights = torchvision.models.EfficientNet_B2_Weights.DEFAULT\n",
        "effnetb2_transforms = effnetb2_weights.transforms()\n",
        "effnetb2 = torchvision.models.efficientnet_b2(weights=effnetb2_weights)\n",
        "\n",
        "for param in effnetb2.parameters():\n",
        "    param.requires_grad = False"
      ],
      "metadata": {
        "id": "Uis-FzEmuLaf",
        "outputId": "df59f093-8df9-46a7-8932-9a6142fb8765",
        "colab": {
          "base_uri": "https://localhost:8080/"
        }
      },
      "execution_count": 6,
      "outputs": [
        {
          "output_type": "stream",
          "name": "stderr",
          "text": [
            "Downloading: \"https://download.pytorch.org/models/efficientnet_b2_rwightman-c35c1473.pth\" to /root/.cache/torch/hub/checkpoints/efficientnet_b2_rwightman-c35c1473.pth\n",
            "100%|██████████| 35.2M/35.2M [00:00<00:00, 127MB/s] \n"
          ]
        }
      ]
    },
    {
      "cell_type": "code",
      "source": [
        "effnetb2.classifier"
      ],
      "metadata": {
        "id": "PxMdrKBJubrk",
        "outputId": "b9b94092-838d-499f-d951-1e133f866d2d",
        "colab": {
          "base_uri": "https://localhost:8080/"
        }
      },
      "execution_count": 7,
      "outputs": [
        {
          "output_type": "execute_result",
          "data": {
            "text/plain": [
              "Sequential(\n",
              "  (0): Dropout(p=0.3, inplace=True)\n",
              "  (1): Linear(in_features=1408, out_features=1000, bias=True)\n",
              ")"
            ]
          },
          "metadata": {},
          "execution_count": 7
        }
      ]
    },
    {
      "cell_type": "markdown",
      "source": [
        "EffNetB2 originally has 1000 output classes. For our use case, we need to change the classifier head to 3 given that our `out_features=3`."
      ],
      "metadata": {
        "id": "F_8STkfhugmf"
      }
    },
    {
      "cell_type": "code",
      "source": [
        "effnetb2.classifier = nn.Sequential(\n",
        "    nn.Dropout(p=0.3, inplace=True),\n",
        "    nn.Linear(in_features=1408,\n",
        "              out_features=3)\n",
        ")"
      ],
      "metadata": {
        "id": "k96Rs2vlvYDp"
      },
      "execution_count": 8,
      "outputs": []
    },
    {
      "cell_type": "markdown",
      "source": [
        "### 3.1 EffNetB2 Feature Extractor Function"
      ],
      "metadata": {
        "id": "wjtla-r2wH8T"
      }
    },
    {
      "cell_type": "code",
      "source": [
        "def create_effnetb2_model(num_classes:int=3,\n",
        "                          seed:int=42):\n",
        "\n",
        "  weights = torchvision.models.EfficientNet_B2_Weights.DEFAULT\n",
        "  transforms = weights.transforms()\n",
        "  model = torchvision.models.efficientnet_b2(weights=weights)\n",
        "\n",
        "  for param in model.parameters():\n",
        "    param.requires_grad = False\n",
        "\n",
        "  torch.manual_seed(seed)\n",
        "  model.classifier = nn.Sequential(\n",
        "      nn.Dropout(p=0.3, inplace=True),\n",
        "      nn.Linear(in_features=1408, out_features=num_classes)\n",
        "  )\n",
        "\n",
        "  return model, transforms\n",
        "\n"
      ],
      "metadata": {
        "id": "Z0wIlJXbwMla"
      },
      "execution_count": 9,
      "outputs": []
    },
    {
      "cell_type": "code",
      "source": [
        "effnetb2, effnetb2_transforms = create_effnetb2_model(num_classes=3,\n",
        "                                                      seed=42)"
      ],
      "metadata": {
        "id": "7QvF3GOsxLTP"
      },
      "execution_count": 10,
      "outputs": []
    },
    {
      "cell_type": "code",
      "source": [
        "from torchinfo import summary\n",
        "\n",
        "summary(effnetb2,\n",
        "        input_size=(1, 3, 224, 224),\n",
        "        col_names=[\"input_size\", \"output_size\", \"num_params\", \"trainable\"],\n",
        "        col_width=20,\n",
        "        row_settings=[\"var_names\"])"
      ],
      "metadata": {
        "id": "A2FzEqKxyiF5",
        "outputId": "65e62c88-4c39-46dd-91de-649d66d45cdc",
        "colab": {
          "base_uri": "https://localhost:8080/"
        }
      },
      "execution_count": 11,
      "outputs": [
        {
          "output_type": "execute_result",
          "data": {
            "text/plain": [
              "============================================================================================================================================\n",
              "Layer (type (var_name))                                      Input Shape          Output Shape         Param #              Trainable\n",
              "============================================================================================================================================\n",
              "EfficientNet (EfficientNet)                                  [1, 3, 224, 224]     [1, 3]               --                   Partial\n",
              "├─Sequential (features)                                      [1, 3, 224, 224]     [1, 1408, 7, 7]      --                   False\n",
              "│    └─Conv2dNormActivation (0)                              [1, 3, 224, 224]     [1, 32, 112, 112]    --                   False\n",
              "│    │    └─Conv2d (0)                                       [1, 3, 224, 224]     [1, 32, 112, 112]    (864)                False\n",
              "│    │    └─BatchNorm2d (1)                                  [1, 32, 112, 112]    [1, 32, 112, 112]    (64)                 False\n",
              "│    │    └─SiLU (2)                                         [1, 32, 112, 112]    [1, 32, 112, 112]    --                   --\n",
              "│    └─Sequential (1)                                        [1, 32, 112, 112]    [1, 16, 112, 112]    --                   False\n",
              "│    │    └─MBConv (0)                                       [1, 32, 112, 112]    [1, 16, 112, 112]    (1,448)              False\n",
              "│    │    └─MBConv (1)                                       [1, 16, 112, 112]    [1, 16, 112, 112]    (612)                False\n",
              "│    └─Sequential (2)                                        [1, 16, 112, 112]    [1, 24, 56, 56]      --                   False\n",
              "│    │    └─MBConv (0)                                       [1, 16, 112, 112]    [1, 24, 56, 56]      (6,004)              False\n",
              "│    │    └─MBConv (1)                                       [1, 24, 56, 56]      [1, 24, 56, 56]      (10,710)             False\n",
              "│    │    └─MBConv (2)                                       [1, 24, 56, 56]      [1, 24, 56, 56]      (10,710)             False\n",
              "│    └─Sequential (3)                                        [1, 24, 56, 56]      [1, 48, 28, 28]      --                   False\n",
              "│    │    └─MBConv (0)                                       [1, 24, 56, 56]      [1, 48, 28, 28]      (16,518)             False\n",
              "│    │    └─MBConv (1)                                       [1, 48, 28, 28]      [1, 48, 28, 28]      (43,308)             False\n",
              "│    │    └─MBConv (2)                                       [1, 48, 28, 28]      [1, 48, 28, 28]      (43,308)             False\n",
              "│    └─Sequential (4)                                        [1, 48, 28, 28]      [1, 88, 14, 14]      --                   False\n",
              "│    │    └─MBConv (0)                                       [1, 48, 28, 28]      [1, 88, 14, 14]      (50,300)             False\n",
              "│    │    └─MBConv (1)                                       [1, 88, 14, 14]      [1, 88, 14, 14]      (123,750)            False\n",
              "│    │    └─MBConv (2)                                       [1, 88, 14, 14]      [1, 88, 14, 14]      (123,750)            False\n",
              "│    │    └─MBConv (3)                                       [1, 88, 14, 14]      [1, 88, 14, 14]      (123,750)            False\n",
              "│    └─Sequential (5)                                        [1, 88, 14, 14]      [1, 120, 14, 14]     --                   False\n",
              "│    │    └─MBConv (0)                                       [1, 88, 14, 14]      [1, 120, 14, 14]     (149,158)            False\n",
              "│    │    └─MBConv (1)                                       [1, 120, 14, 14]     [1, 120, 14, 14]     (237,870)            False\n",
              "│    │    └─MBConv (2)                                       [1, 120, 14, 14]     [1, 120, 14, 14]     (237,870)            False\n",
              "│    │    └─MBConv (3)                                       [1, 120, 14, 14]     [1, 120, 14, 14]     (237,870)            False\n",
              "│    └─Sequential (6)                                        [1, 120, 14, 14]     [1, 208, 7, 7]       --                   False\n",
              "│    │    └─MBConv (0)                                       [1, 120, 14, 14]     [1, 208, 7, 7]       (301,406)            False\n",
              "│    │    └─MBConv (1)                                       [1, 208, 7, 7]       [1, 208, 7, 7]       (686,868)            False\n",
              "│    │    └─MBConv (2)                                       [1, 208, 7, 7]       [1, 208, 7, 7]       (686,868)            False\n",
              "│    │    └─MBConv (3)                                       [1, 208, 7, 7]       [1, 208, 7, 7]       (686,868)            False\n",
              "│    │    └─MBConv (4)                                       [1, 208, 7, 7]       [1, 208, 7, 7]       (686,868)            False\n",
              "│    └─Sequential (7)                                        [1, 208, 7, 7]       [1, 352, 7, 7]       --                   False\n",
              "│    │    └─MBConv (0)                                       [1, 208, 7, 7]       [1, 352, 7, 7]       (846,900)            False\n",
              "│    │    └─MBConv (1)                                       [1, 352, 7, 7]       [1, 352, 7, 7]       (1,888,920)          False\n",
              "│    └─Conv2dNormActivation (8)                              [1, 352, 7, 7]       [1, 1408, 7, 7]      --                   False\n",
              "│    │    └─Conv2d (0)                                       [1, 352, 7, 7]       [1, 1408, 7, 7]      (495,616)            False\n",
              "│    │    └─BatchNorm2d (1)                                  [1, 1408, 7, 7]      [1, 1408, 7, 7]      (2,816)              False\n",
              "│    │    └─SiLU (2)                                         [1, 1408, 7, 7]      [1, 1408, 7, 7]      --                   --\n",
              "├─AdaptiveAvgPool2d (avgpool)                                [1, 1408, 7, 7]      [1, 1408, 1, 1]      --                   --\n",
              "├─Sequential (classifier)                                    [1, 1408]            [1, 3]               --                   True\n",
              "│    └─Dropout (0)                                           [1, 1408]            [1, 1408]            --                   --\n",
              "│    └─Linear (1)                                            [1, 1408]            [1, 3]               4,227                True\n",
              "============================================================================================================================================\n",
              "Total params: 7,705,221\n",
              "Trainable params: 4,227\n",
              "Non-trainable params: 7,700,994\n",
              "Total mult-adds (Units.MEGABYTES): 657.64\n",
              "============================================================================================================================================\n",
              "Input size (MB): 0.60\n",
              "Forward/backward pass size (MB): 156.80\n",
              "Params size (MB): 30.82\n",
              "Estimated Total Size (MB): 188.22\n",
              "============================================================================================================================================"
            ]
          },
          "metadata": {},
          "execution_count": 11
        }
      ]
    },
    {
      "cell_type": "markdown",
      "source": [
        "### 3.2 Creating DataLoaders for EffNetB2\n",
        "\n"
      ],
      "metadata": {
        "id": "T8saG_Ldy6hV"
      }
    },
    {
      "cell_type": "code",
      "source": [
        "from going_modular import data_setup\n",
        "train_dataloader_effnetb2, test_dataloader_effnetb2, class_names = data_setup.create_dataloaders(train_dir=train_dir,\n",
        "                                                                                                 test_dir=test_dir,\n",
        "                                                                                                 transform=effnetb2_transforms,\n",
        "                                                                                                 batch_size=32)"
      ],
      "metadata": {
        "id": "IlgZOolry_9T"
      },
      "execution_count": 12,
      "outputs": []
    },
    {
      "cell_type": "markdown",
      "source": [
        "### 3.3 Training EffNetB2 feature extractor"
      ],
      "metadata": {
        "id": "Cud-dJwAzSem"
      }
    },
    {
      "cell_type": "code",
      "source": [
        "from going_modular import engine\n",
        "\n",
        "optimizer = torch.optim.Adam(params=effnetb2.parameters(), lr=1e-3)\n",
        "loss_fn = torch.nn.CrossEntropyLoss()\n",
        "set_seeds()\n",
        "effnetb2_results = engine.train(model=effnetb2,\n",
        "                                train_dataloader=train_dataloader_effnetb2,\n",
        "                                test_dataloader=test_dataloader_effnetb2,\n",
        "                                epochs=10,\n",
        "                                optimizer=optimizer,\n",
        "                                loss_fn=loss_fn,\n",
        "                                device=device)\n",
        "\n"
      ],
      "metadata": {
        "id": "eQz5Pv7wzWND",
        "outputId": "04191c2c-6030-4fbb-8984-3d7f8eec26b6",
        "colab": {
          "base_uri": "https://localhost:8080/",
          "height": 243,
          "referenced_widgets": [
            "db611f110801415f9840aaf2ae34321e",
            "b682734e04404506b43eb4f03b7e8f26",
            "985fd951c7414771b479508c97891cd9",
            "9b453db33dc04ce4b05a3521b5b69846",
            "70242b7e315f4d80b867ad0cb69b4e35",
            "ebb620d4ed534816a42c894853b74284",
            "a7c0d06e57784ce398c9674d122e9bf7",
            "545c52d88e2d43dead4c4dcb40d292cf",
            "0578e7c43179470e9d20eccc9e77d71a",
            "0ce77e655ebd41d0b758e0c0e446a06a",
            "0611ca55d2c74e93b82213b8a0b9c999"
          ]
        }
      },
      "execution_count": 13,
      "outputs": [
        {
          "output_type": "display_data",
          "data": {
            "text/plain": [
              "  0%|          | 0/10 [00:00<?, ?it/s]"
            ],
            "application/vnd.jupyter.widget-view+json": {
              "version_major": 2,
              "version_minor": 0,
              "model_id": "db611f110801415f9840aaf2ae34321e"
            }
          },
          "metadata": {}
        },
        {
          "output_type": "stream",
          "name": "stdout",
          "text": [
            "Epoch: 1 | train_loss: 0.9839 | train_acc: 0.5667 | test_loss: 0.1526 | test_acc: 0.9409\n",
            "Epoch: 2 | train_loss: 0.7135 | train_acc: 0.8396 | test_loss: 0.1323 | test_acc: 0.9409\n",
            "Epoch: 3 | train_loss: 0.5874 | train_acc: 0.8958 | test_loss: 0.1028 | test_acc: 0.9563\n",
            "Epoch: 4 | train_loss: 0.4488 | train_acc: 0.9146 | test_loss: 0.0926 | test_acc: 0.9409\n",
            "Epoch: 5 | train_loss: 0.4277 | train_acc: 0.9125 | test_loss: 0.1044 | test_acc: 0.9443\n",
            "Epoch: 6 | train_loss: 0.4392 | train_acc: 0.8896 | test_loss: 0.0817 | test_acc: 0.9688\n",
            "Epoch: 7 | train_loss: 0.4246 | train_acc: 0.8771 | test_loss: 0.0748 | test_acc: 0.9563\n",
            "Epoch: 8 | train_loss: 0.3885 | train_acc: 0.8979 | test_loss: 0.0989 | test_acc: 0.9443\n",
            "Epoch: 9 | train_loss: 0.3795 | train_acc: 0.8812 | test_loss: 0.0813 | test_acc: 0.9193\n",
            "Epoch: 10 | train_loss: 0.3752 | train_acc: 0.8688 | test_loss: 0.0628 | test_acc: 0.9625\n"
          ]
        }
      ]
    },
    {
      "cell_type": "markdown",
      "source": [
        "### 3.4 EffNetB2 Loss Curves"
      ],
      "metadata": {
        "id": "UTa9cp8nzvzx"
      }
    },
    {
      "cell_type": "code",
      "source": [
        "from helper_functions import plot_loss_curves\n",
        "\n",
        "plot_loss_curves(effnetb2_results)"
      ],
      "metadata": {
        "id": "FE6_YMh3zzTB",
        "outputId": "f4b433dd-36dd-4370-f929-10b6a6af59a4",
        "colab": {
          "base_uri": "https://localhost:8080/",
          "height": 380
        }
      },
      "execution_count": 14,
      "outputs": [
        {
          "output_type": "display_data",
          "data": {
            "text/plain": [
              "<Figure size 1500x700 with 2 Axes>"
            ],
            "image/png": "[encoded data removed]"
          },
          "metadata": {}
        }
      ]
    },
    {
      "cell_type": "markdown",
      "source": [
        "The loss curves seem to be very good with the `test_loss` and `test_accuracy` values almost optimal.  "
      ],
      "metadata": {
        "id": "gVd8QXoU0bhG"
      }
    },
    {
      "cell_type": "markdown",
      "source": [
        "### 3.5 Saving EffNetB2 feature extractor"
      ],
      "metadata": {
        "id": "g3hyV14-09_7"
      }
    },
    {
      "cell_type": "code",
      "source": [
        "from going_modular import utils\n",
        "\n",
        "utils.save_model(model=effnetb2,\n",
        "                 target_dir=\"models\",\n",
        "                 model_name=\"09_pretrained_effnetb2_feature_extractor_pizza_steak_sushi_20_percent.pth\")"
      ],
      "metadata": {
        "id": "tGXqQWVj1ClV",
        "outputId": "b6377076-6294-455b-9378-9d5c35c6fde5",
        "colab": {
          "base_uri": "https://localhost:8080/"
        }
      },
      "execution_count": 15,
      "outputs": [
        {
          "output_type": "stream",
          "name": "stdout",
          "text": [
            "[INFO] Saving model to: models/09_pretrained_effnetb2_feature_extractor_pizza_steak_sushi_20_percent.pth\n"
          ]
        }
      ]
    },
    {
      "cell_type": "markdown",
      "source": [
        "### 3.6 EffNetB2 feature extractor size\n",
        "\n",
        "Since one of our most important metrics is speed, the size of the model can influence the inference speed.\n",
        "\n",
        "Generally, if a model has more parameters, it generally performs more operations and each operation requires more computing power.\n",
        "\n",
        "Given that the goal is for the model to work with limited computing power such as on a mobile device or web browser, generally, the smaller the size the better."
      ],
      "metadata": {
        "id": "V5PP4EP4Ea7a"
      }
    },
    {
      "cell_type": "code",
      "source": [
        "from pathlib import Path\n",
        "pretrained_effnetb2_model_size = Path(\"models/09_pretrained_effnetb2_feature_extractor_pizza_steak_sushi_20_percent.pth\").stat().st_size // (1024*1024) # division converts bytes to megabytes\n",
        "print(f\"Pretrained EffNetB2 feature extractor model size: {pretrained_effnetb2_model_size} MB\")\n"
      ],
      "metadata": {
        "id": "vF1tKPIkGVc8",
        "outputId": "5b4e9d14-b804-4e7e-89eb-bd1551fda8e8",
        "colab": {
          "base_uri": "https://localhost:8080/"
        }
      },
      "execution_count": 16,
      "outputs": [
        {
          "output_type": "stream",
          "name": "stdout",
          "text": [
            "Pretrained EffNetB2 feature extractor model size: 29 MB\n"
          ]
        }
      ]
    },
    {
      "cell_type": "markdown",
      "source": [
        "### 3.7 EffNetB2 feature extractor stats\n",
        "\n",
        "So far we have identified the `test_loss`, `test_accuracy` and `model_size` metrics. To make it easier to compare with the upcoming feature extractor, we can condense it into a dictionary, alongside any other meaningful metrics.\n",
        "\n",
        "An extra metric we can include are the total number of parameters. This can be calculated by counting the number of elements (or patterns/weights) in `effnetb2.parameteres()` by accessing said number using the `torch.numel()` method.\n",
        "\n"
      ],
      "metadata": {
        "id": "ubOUxe5dHc_j"
      }
    },
    {
      "cell_type": "code",
      "source": [
        "effnetb2_total_params = sum(torch.numel(param) for param in effnetb2.parameters())\n",
        "effnetb2_total_params"
      ],
      "metadata": {
        "id": "SXoYDgEiIMk6",
        "outputId": "aa0606f8-92ad-4e79-c95f-baf23e957e5f",
        "colab": {
          "base_uri": "https://localhost:8080/"
        }
      },
      "execution_count": 17,
      "outputs": [
        {
          "output_type": "execute_result",
          "data": {
            "text/plain": [
              "7705221"
            ]
          },
          "metadata": {},
          "execution_count": 17
        }
      ]
    },
    {
      "cell_type": "code",
      "source": [
        "effnetb2_stats = {\"test_loss\": effnetb2_results[\"test_loss\"][-1],\n",
        "                  \"test_acc\": effnetb2_results[\"test_acc\"][-1],\n",
        "                  \"number_of_parameters\": effnetb2_total_params,\n",
        "                  \"model_size (MB)\": pretrained_effnetb2_model_size}\n",
        "\n",
        "effnetb2_stats"
      ],
      "metadata": {
        "id": "ZAMNT8AeHf0l",
        "outputId": "dbb23121-e691-4a2e-ed80-2600251ae98e",
        "colab": {
          "base_uri": "https://localhost:8080/"
        }
      },
      "execution_count": 18,
      "outputs": [
        {
          "output_type": "execute_result",
          "data": {
            "text/plain": [
              "{'test_loss': 0.06278705596923828,\n",
              " 'test_acc': 0.9625,\n",
              " 'number_of_parameters': 7705221,\n",
              " 'model_size (MB)': 29}"
            ]
          },
          "metadata": {},
          "execution_count": 18
        }
      ]
    },
    {
      "cell_type": "markdown",
      "source": [
        "Based on these metrics, we have already met the first criteria which aimed for a performance with at least 95% accuracy."
      ],
      "metadata": {
        "id": "4EDAhuzzIby3"
      }
    },
    {
      "cell_type": "markdown",
      "source": [
        "## 4. Creating a ViT feature extractor"
      ],
      "metadata": {
        "id": "Sg6Iz6tcIi5s"
      }
    }
  ],
  "metadata": {
    "kernelspec": {
      "display_name": "Python 3",
      "name": "python3"
    },
    "language_info": {
      "name": "python",
      "version": "3.11.4"
    },
    "colab": {
      "provenance": [],
      "gpuType": "T4"
    },
    "accelerator": "GPU",
    "widgets": {
      "application/vnd.jupyter.widget-state+json": {
        "db611f110801415f9840aaf2ae34321e": {
          "model_module": "@jupyter-widgets/controls",
          "model_name": "HBoxModel",
          "model_module_version": "1.5.0",
          "state": {
            "_dom_classes": [],
            "_model_module": "@jupyter-widgets/controls",
            "_model_module_version": "1.5.0",
            "_model_name": "HBoxModel",
            "_view_count": null,
            "_view_module": "@jupyter-widgets/controls",
            "_view_module_version": "1.5.0",
            "_view_name": "HBoxView",
            "box_style": "",
            "children": [
              "IPY_MODEL_b682734e04404506b43eb4f03b7e8f26",
              "IPY_MODEL_985fd951c7414771b479508c97891cd9",
              "IPY_MODEL_9b453db33dc04ce4b05a3521b5b69846"
            ],
            "layout": "IPY_MODEL_70242b7e315f4d80b867ad0cb69b4e35"
          }
        },
        "b682734e04404506b43eb4f03b7e8f26": {
          "model_module": "@jupyter-widgets/controls",
          "model_name": "HTMLModel",
          "model_module_version": "1.5.0",
          "state": {
            "_dom_classes": [],
            "_model_module": "@jupyter-widgets/controls",
            "_model_module_version": "1.5.0",
            "_model_name": "HTMLModel",
            "_view_count": null,
            "_view_module": "@jupyter-widgets/controls",
            "_view_module_version": "1.5.0",
            "_view_name": "HTMLView",
            "description": "",
            "description_tooltip": null,
            "layout": "IPY_MODEL_ebb620d4ed534816a42c894853b74284",
            "placeholder": "​",
            "style": "IPY_MODEL_a7c0d06e57784ce398c9674d122e9bf7",
            "value": "100%"
          }
        },
        "985fd951c7414771b479508c97891cd9": {
          "model_module": "@jupyter-widgets/controls",
          "model_name": "FloatProgressModel",
          "model_module_version": "1.5.0",
          "state": {
            "_dom_classes": [],
            "_model_module": "@jupyter-widgets/controls",
            "_model_module_version": "1.5.0",
            "_model_name": "FloatProgressModel",
            "_view_count": null,
            "_view_module": "@jupyter-widgets/controls",
            "_view_module_version": "1.5.0",
            "_view_name": "ProgressView",
            "bar_style": "success",
            "description": "",
            "description_tooltip": null,
            "layout": "IPY_MODEL_545c52d88e2d43dead4c4dcb40d292cf",
            "max": 10,
            "min": 0,
            "orientation": "horizontal",
            "style": "IPY_MODEL_0578e7c43179470e9d20eccc9e77d71a",
            "value": 10
          }
        },
        "9b453db33dc04ce4b05a3521b5b69846": {
          "model_module": "@jupyter-widgets/controls",
          "model_name": "HTMLModel",
          "model_module_version": "1.5.0",
          "state": {
            "_dom_classes": [],
            "_model_module": "@jupyter-widgets/controls",
            "_model_module_version": "1.5.0",
            "_model_name": "HTMLModel",
            "_view_count": null,
            "_view_module": "@jupyter-widgets/controls",
            "_view_module_version": "1.5.0",
            "_view_name": "HTMLView",
            "description": "",
            "description_tooltip": null,
            "layout": "IPY_MODEL_0ce77e655ebd41d0b758e0c0e446a06a",
            "placeholder": "​",
            "style": "IPY_MODEL_0611ca55d2c74e93b82213b8a0b9c999",
            "value": " 10/10 [01:01&lt;00:00,  5.84s/it]"
          }
        },
        "70242b7e315f4d80b867ad0cb69b4e35": {
          "model_module": "@jupyter-widgets/base",
          "model_name": "LayoutModel",
          "model_module_version": "1.2.0",
          "state": {
            "_model_module": "@jupyter-widgets/base",
            "_model_module_version": "1.2.0",
            "_model_name": "LayoutModel",
            "_view_count": null,
            "_view_module": "@jupyter-widgets/base",
            "_view_module_version": "1.2.0",
            "_view_name": "LayoutView",
            "align_content": null,
            "align_items": null,
            "align_self": null,
            "border": null,
            "bottom": null,
            "display": null,
            "flex": null,
            "flex_flow": null,
            "grid_area": null,
            "grid_auto_columns": null,
            "grid_auto_flow": null,
            "grid_auto_rows": null,
            "grid_column": null,
            "grid_gap": null,
            "grid_row": null,
            "grid_template_areas": null,
            "grid_template_columns": null,
            "grid_template_rows": null,
            "height": null,
            "justify_content": null,
            "justify_items": null,
            "left": null,
            "margin": null,
            "max_height": null,
            "max_width": null,
            "min_height": null,
            "min_width": null,
            "object_fit": null,
            "object_position": null,
            "order": null,
            "overflow": null,
            "overflow_x": null,
            "overflow_y": null,
            "padding": null,
            "right": null,
            "top": null,
            "visibility": null,
            "width": null
          }
        },
        "ebb620d4ed534816a42c894853b74284": {
          "model_module": "@jupyter-widgets/base",
          "model_name": "LayoutModel",
          "model_module_version": "1.2.0",
          "state": {
            "_model_module": "@jupyter-widgets/base",
            "_model_module_version": "1.2.0",
            "_model_name": "LayoutModel",
            "_view_count": null,
            "_view_module": "@jupyter-widgets/base",
            "_view_module_version": "1.2.0",
            "_view_name": "LayoutView",
            "align_content": null,
            "align_items": null,
            "align_self": null,
            "border": null,
            "bottom": null,
            "display": null,
            "flex": null,
            "flex_flow": null,
            "grid_area": null,
            "grid_auto_columns": null,
            "grid_auto_flow": null,
            "grid_auto_rows": null,
            "grid_column": null,
            "grid_gap": null,
            "grid_row": null,
            "grid_template_areas": null,
            "grid_template_columns": null,
            "grid_template_rows": null,
            "height": null,
            "justify_content": null,
            "justify_items": null,
            "left": null,
            "margin": null,
            "max_height": null,
            "max_width": null,
            "min_height": null,
            "min_width": null,
            "object_fit": null,
            "object_position": null,
            "order": null,
            "overflow": null,
            "overflow_x": null,
            "overflow_y": null,
            "padding": null,
            "right": null,
            "top": null,
            "visibility": null,
            "width": null
          }
        },
        "a7c0d06e57784ce398c9674d122e9bf7": {
          "model_module": "@jupyter-widgets/controls",
          "model_name": "DescriptionStyleModel",
          "model_module_version": "1.5.0",
          "state": {
            "_model_module": "@jupyter-widgets/controls",
            "_model_module_version": "1.5.0",
            "_model_name": "DescriptionStyleModel",
            "_view_count": null,
            "_view_module": "@jupyter-widgets/base",
            "_view_module_version": "1.2.0",
            "_view_name": "StyleView",
            "description_width": ""
          }
        },
        "545c52d88e2d43dead4c4dcb40d292cf": {
          "model_module": "@jupyter-widgets/base",
          "model_name": "LayoutModel",
          "model_module_version": "1.2.0",
          "state": {
            "_model_module": "@jupyter-widgets/base",
            "_model_module_version": "1.2.0",
            "_model_name": "LayoutModel",
            "_view_count": null,
            "_view_module": "@jupyter-widgets/base",
            "_view_module_version": "1.2.0",
            "_view_name": "LayoutView",
            "align_content": null,
            "align_items": null,
            "align_self": null,
            "border": null,
            "bottom": null,
            "display": null,
            "flex": null,
            "flex_flow": null,
            "grid_area": null,
            "grid_auto_columns": null,
            "grid_auto_flow": null,
            "grid_auto_rows": null,
            "grid_column": null,
            "grid_gap": null,
            "grid_row": null,
            "grid_template_areas": null,
            "grid_template_columns": null,
            "grid_template_rows": null,
            "height": null,
            "justify_content": null,
            "justify_items": null,
            "left": null,
            "margin": null,
            "max_height": null,
            "max_width": null,
            "min_height": null,
            "min_width": null,
            "object_fit": null,
            "object_position": null,
            "order": null,
            "overflow": null,
            "overflow_x": null,
            "overflow_y": null,
            "padding": null,
            "right": null,
            "top": null,
            "visibility": null,
            "width": null
          }
        },
        "0578e7c43179470e9d20eccc9e77d71a": {
          "model_module": "@jupyter-widgets/controls",
          "model_name": "ProgressStyleModel",
          "model_module_version": "1.5.0",
          "state": {
            "_model_module": "@jupyter-widgets/controls",
            "_model_module_version": "1.5.0",
            "_model_name": "ProgressStyleModel",
            "_view_count": null,
            "_view_module": "@jupyter-widgets/base",
            "_view_module_version": "1.2.0",
            "_view_name": "StyleView",
            "bar_color": null,
            "description_width": ""
          }
        },
        "0ce77e655ebd41d0b758e0c0e446a06a": {
          "model_module": "@jupyter-widgets/base",
          "model_name": "LayoutModel",
          "model_module_version": "1.2.0",
          "state": {
            "_model_module": "@jupyter-widgets/base",
            "_model_module_version": "1.2.0",
            "_model_name": "LayoutModel",
            "_view_count": null,
            "_view_module": "@jupyter-widgets/base",
            "_view_module_version": "1.2.0",
            "_view_name": "LayoutView",
            "align_content": null,
            "align_items": null,
            "align_self": null,
            "border": null,
            "bottom": null,
            "display": null,
            "flex": null,
            "flex_flow": null,
            "grid_area": null,
            "grid_auto_columns": null,
            "grid_auto_flow": null,
            "grid_auto_rows": null,
            "grid_column": null,
            "grid_gap": null,
            "grid_row": null,
            "grid_template_areas": null,
            "grid_template_columns": null,
            "grid_template_rows": null,
            "height": null,
            "justify_content": null,
            "justify_items": null,
            "left": null,
            "margin": null,
            "max_height": null,
            "max_width": null,
            "min_height": null,
            "min_width": null,
            "object_fit": null,
            "object_position": null,
            "order": null,
            "overflow": null,
            "overflow_x": null,
            "overflow_y": null,
            "padding": null,
            "right": null,
            "top": null,
            "visibility": null,
            "width": null
          }
        },
        "0611ca55d2c74e93b82213b8a0b9c999": {
          "model_module": "@jupyter-widgets/controls",
          "model_name": "DescriptionStyleModel",
          "model_module_version": "1.5.0",
          "state": {
            "_model_module": "@jupyter-widgets/controls",
            "_model_module_version": "1.5.0",
            "_model_name": "DescriptionStyleModel",
            "_view_count": null,
            "_view_module": "@jupyter-widgets/base",
            "_view_module_version": "1.2.0",
            "_view_name": "StyleView",
            "description_width": ""
          }
        }
      }
    }
  },
  "nbformat": 4,
  "nbformat_minor": 0
}